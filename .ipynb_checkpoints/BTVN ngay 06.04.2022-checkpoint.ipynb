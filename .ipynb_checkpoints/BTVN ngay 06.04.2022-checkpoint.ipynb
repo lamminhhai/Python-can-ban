{
 "cells": [
  {
   "cell_type": "code",
   "execution_count": null,
   "id": "b48f4f96",
   "metadata": {},
   "outputs": [],
   "source": [
    "# Bai 1: Nhap ho ten\n",
    "name = str(input('Nhap ho ten: '))\n",
    "name = name.strip()\n",
    "name = name.lower()\n",
    "name = name.split(' ')\n",
    "for i in name:\n",
    "    if i != '':\n",
    "        i = i[0].upper() + i[1:]\n",
    "        print(i, end = ' ')"
   ]
  },
  {
   "cell_type": "code",
   "execution_count": null,
   "id": "d0644a1f",
   "metadata": {},
   "outputs": [],
   "source": [
    "# Bai 2: Ma vach\n",
    "barcode = str(input('Nhap ma vach: '))\n",
    "A = 0\n",
    "B = 0\n",
    "C = int(barcode[12])\n",
    "i = 0\n",
    "while i < 12:\n",
    "    if i%2 == 0:\n",
    "        A += int(barcode[i])\n",
    "    else:\n",
    "        B += int(barcode[i])\n",
    "    i += 1\n",
    "D = A + B*3\n",
    "E = D%10\n",
    "if E != 0:\n",
    "    F = 10 - E\n",
    "else:\n",
    "    F = 0\n",
    "if F == C:\n",
    "    print('Ma vach dung!')\n",
    "else:\n",
    "    print('Ma vach sai!')"
   ]
  }
 ],
 "metadata": {
  "kernelspec": {
   "display_name": "Python 3 (ipykernel)",
   "language": "python",
   "name": "python3"
  },
  "language_info": {
   "codemirror_mode": {
    "name": "ipython",
    "version": 3
   },
   "file_extension": ".py",
   "mimetype": "text/x-python",
   "name": "python",
   "nbconvert_exporter": "python",
   "pygments_lexer": "ipython3",
   "version": "3.9.7"
  }
 },
 "nbformat": 4,
 "nbformat_minor": 5
}
