{
 "cells": [
  {
   "cell_type": "code",
   "execution_count": 14,
   "id": "f0d8e5c8",
   "metadata": {},
   "outputs": [
    {
     "name": "stdout",
     "output_type": "stream",
     "text": [
      "Nhap N: 5\n",
      "*\n",
      "**\n",
      "***\n",
      "****\n",
      "*****\n",
      "****\n",
      "***\n",
      "**\n",
      "*\n"
     ]
    }
   ],
   "source": [
    "N = int(input('Nhap N: '))\n",
    "for i in range(1,N+1):\n",
    "    print('*'*i, end='\\n')\n",
    "for j in range(N-1,0,-1):\n",
    "    print('*'*j, end='\\n')"
   ]
  },
  {
   "cell_type": "code",
   "execution_count": 43,
   "id": "aeedd941",
   "metadata": {},
   "outputs": [
    {
     "name": "stdout",
     "output_type": "stream",
     "text": [
      "Nhap N la so le: 11\n",
      "     *     \n",
      "    ***    \n",
      "   *****   \n",
      "  *******  \n",
      " ********* \n",
      "***********\n",
      " ********* \n",
      "  *******  \n",
      "   *****   \n",
      "    ***    \n",
      "     *     \n"
     ]
    }
   ],
   "source": [
    "#In dấu *\n",
    "N = int(input('Nhap N la so le: '))\n",
    "if N%2==0 or N<0:\n",
    "    print('Du lieu sai!')\n",
    "else:\n",
    "    for i in range(2*N):\n",
    "        if i<=N:\n",
    "            if i%2!=0:\n",
    "                print(int((N-i)/2)*' ' + '*'*i + int((N-i)/2)*' ', end='\\n')\n",
    "        else:\n",
    "            if i%2!=0:\n",
    "                print(int((i-N)/2)*' ' + '*'*(2*N-i) + int((i-N)/2)*' ', end='\\n')"
   ]
  },
  {
   "cell_type": "code",
   "execution_count": 42,
   "id": "fce56a25",
   "metadata": {},
   "outputs": [
    {
     "name": "stdout",
     "output_type": "stream",
     "text": [
      "184\n"
     ]
    }
   ],
   "source": [
    "#Tối đa bao nhiêu cách đổi tờ tiền 100k ra các tờ có mệnh giá 2k, 3k và 5k?\n",
    "i = 0\n",
    "for a in range(0,51):\n",
    "    for b in range(0,33):\n",
    "        for c in range(0,21):\n",
    "            if 2*a + 3*b + 5*c == 100:\n",
    "                i += 1\n",
    "print(i)"
   ]
  },
  {
   "cell_type": "code",
   "execution_count": null,
   "id": "d2e99eae",
   "metadata": {},
   "outputs": [],
   "source": []
  }
 ],
 "metadata": {
  "kernelspec": {
   "display_name": "Python 3 (ipykernel)",
   "language": "python",
   "name": "python3"
  },
  "language_info": {
   "codemirror_mode": {
    "name": "ipython",
    "version": 3
   },
   "file_extension": ".py",
   "mimetype": "text/x-python",
   "name": "python",
   "nbconvert_exporter": "python",
   "pygments_lexer": "ipython3",
   "version": "3.9.7"
  }
 },
 "nbformat": 4,
 "nbformat_minor": 5
}
