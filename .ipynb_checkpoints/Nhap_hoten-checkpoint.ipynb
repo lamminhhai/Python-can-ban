{
 "cells": [
  {
   "cell_type": "code",
   "execution_count": 1,
   "id": "7e6df5b7",
   "metadata": {},
   "outputs": [
    {
     "name": "stdout",
     "output_type": "stream",
     "text": [
      "Nhap ho ten: lam minh hai\n",
      "Lam Minh Hai\n"
     ]
    }
   ],
   "source": [
    "name = str(input(\"Nhap ho ten: \"))\n",
    "name = name.strip()\n",
    "name = name.lower()\n",
    "name = name.split(' ')\n",
    "Ho = name[0]\n",
    "Dem = name[1]\n",
    "Ten = name[2]\n",
    "Ho = \"{chu_dau}{remain}\".format(chu_dau = Ho[0].upper(), remain = Ho[1:])\n",
    "Dem = \"{chu_dau}{remain}\".format(chu_dau = Dem[0].upper(), remain = Dem[1:])\n",
    "Ten = \"{chu_dau}{remain}\".format(chu_dau = Ten[0].upper(), remain = Ten[1:])\n",
    "print(Ho, Dem, Ten)"
   ]
  },
  {
   "cell_type": "code",
   "execution_count": null,
   "id": "8e18acea",
   "metadata": {},
   "outputs": [],
   "source": []
  }
 ],
 "metadata": {
  "kernelspec": {
   "display_name": "Python 3 (ipykernel)",
   "language": "python",
   "name": "python3"
  },
  "language_info": {
   "codemirror_mode": {
    "name": "ipython",
    "version": 3
   },
   "file_extension": ".py",
   "mimetype": "text/x-python",
   "name": "python",
   "nbconvert_exporter": "python",
   "pygments_lexer": "ipython3",
   "version": "3.9.7"
  }
 },
 "nbformat": 4,
 "nbformat_minor": 5
}
