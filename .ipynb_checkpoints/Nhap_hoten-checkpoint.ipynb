{
 "cells": [
  {
   "cell_type": "code",
   "execution_count": 5,
   "id": "7e6df5b7",
   "metadata": {},
   "outputs": [
    {
     "name": "stdout",
     "output_type": "stream",
     "text": [
      "Nhap ho ten: fsadfsdf ấdf sfasdgsd    \n",
      "Fsadfsdf Ấdf Sfasdgsd "
     ]
    }
   ],
   "source": [
    "name = str(input(\"Nhap ho ten: \"))\n",
    "name = name.strip()\n",
    "name = name.lower()\n",
    "name = name.split(' ')\n",
    "for i in name:\n",
    "    i = str(i[0]).upper() + str(i[1:])\n",
    "    print(i, end=' ')"
   ]
  },
  {
   "cell_type": "code",
   "execution_count": null,
   "id": "8e18acea",
   "metadata": {},
   "outputs": [],
   "source": []
  }
 ],
 "metadata": {
  "kernelspec": {
   "display_name": "Python 3 (ipykernel)",
   "language": "python",
   "name": "python3"
  },
  "language_info": {
   "codemirror_mode": {
    "name": "ipython",
    "version": 3
   },
   "file_extension": ".py",
   "mimetype": "text/x-python",
   "name": "python",
   "nbconvert_exporter": "python",
   "pygments_lexer": "ipython3",
   "version": "3.9.7"
  }
 },
 "nbformat": 4,
 "nbformat_minor": 5
}
