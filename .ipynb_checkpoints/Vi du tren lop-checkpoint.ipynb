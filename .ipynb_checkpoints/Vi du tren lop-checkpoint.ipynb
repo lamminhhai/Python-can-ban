{
 "cells": [
  {
   "cell_type": "code",
   "execution_count": 1,
   "id": "214225d6",
   "metadata": {},
   "outputs": [
    {
     "name": "stdout",
     "output_type": "stream",
     "text": [
      "5050\n"
     ]
    }
   ],
   "source": [
    "i = 1\n",
    "sum = 0\n",
    "while i<=100:\n",
    "    sum+=i\n",
    "    i+=1\n",
    "print(sum)\n",
    "    "
   ]
  },
  {
   "cell_type": "code",
   "execution_count": 2,
   "id": "50b94fdf",
   "metadata": {},
   "outputs": [],
   "source": [
    "import turtle\n",
    "p = turtle.Turtle()\n",
    "i = 0\n",
    "while i<5:\n",
    "    p.fd(100)\n",
    "    p.right(144)\n",
    "    i+=1"
   ]
  },
  {
   "cell_type": "code",
   "execution_count": null,
   "id": "e0c55f2d",
   "metadata": {},
   "outputs": [],
   "source": [
    "text = input(\"Nhap chuoi bat ky: \")\n",
    "s = 0\n",
    "for i in text:\n",
    "    if i.isdigit():\n",
    "        s+=1\n",
    "print(s)\n"
   ]
  },
  {
   "cell_type": "code",
   "execution_count": null,
   "id": "a5be6fe6",
   "metadata": {},
   "outputs": [],
   "source": [
    "#tính giai thừa\n",
    "N = int(input('Nhap N: '))\n",
    "a = 1\n",
    "for i in range(1, N+1):\n",
    "    a = a * i\n",
    "print(\"N! = \", a)"
   ]
  },
  {
   "cell_type": "code",
   "execution_count": null,
   "id": "86acea14",
   "metadata": {},
   "outputs": [],
   "source": [
    "#tính tỷ số trận đấu 000111 - 101010\n",
    "ts1 = input('Nhap ty so 1: ')\n",
    "ts2 = input('Nhap ty so 2: ')\n",
    "a1 = 0\n",
    "a2 = 0\n",
    "for i in ts1:\n",
    "    if i == \"1\":\n",
    "        a1 += 1\n",
    "for i in ts2:\n",
    "    if i == \"1\":\n",
    "        a2 += 1\n",
    "print('Ty so la: ', a1, '-', a2)"
   ]
  },
  {
   "cell_type": "code",
   "execution_count": 5,
   "id": "b5bdba31",
   "metadata": {},
   "outputs": [
    {
     "name": "stdout",
     "output_type": "stream",
     "text": [
      "Nhập N: 5\n",
      "*****\n",
      "****\n",
      "***\n",
      "**\n",
      "*\n"
     ]
    }
   ],
   "source": [
    "#in hình dấu *\n",
    "N = int(input(\"Nhập N: \"))\n",
    "for i in range(N,0,-1):\n",
    "    print(i*'*')"
   ]
  }
 ],
 "metadata": {
  "kernelspec": {
   "display_name": "Python 3 (ipykernel)",
   "language": "python",
   "name": "python3"
  },
  "language_info": {
   "codemirror_mode": {
    "name": "ipython",
    "version": 3
   },
   "file_extension": ".py",
   "mimetype": "text/x-python",
   "name": "python",
   "nbconvert_exporter": "python",
   "pygments_lexer": "ipython3",
   "version": "3.9.7"
  }
 },
 "nbformat": 4,
 "nbformat_minor": 5
}
