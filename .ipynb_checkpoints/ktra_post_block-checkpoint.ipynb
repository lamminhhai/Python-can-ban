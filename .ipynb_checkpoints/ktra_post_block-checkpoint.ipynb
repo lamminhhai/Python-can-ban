{
 "cells": [
  {
   "cell_type": "code",
   "execution_count": null,
   "id": "db78c156",
   "metadata": {},
   "outputs": [],
   "source": [
    "post = input(\"Nhap post co 3 cau: \")\n",
    "post = post.lower()\n",
    "post = post.split(\".\")\n",
    "cau1 = post[0]\n",
    "cau2 = post[1]\n",
    "cau3 = post[2]\n",
    "check1 = (\"sex\" in cau1) or (\"racist\" in cau1) or (\"violence\" in cau1) or (\"child abuse\" in cau1)\n",
    "check2 = (\"sex\" in cau2) or (\"racist\" in cau2) or (\"violence\" in cau2) or (\"child abuse\" in cau2)\n",
    "check3 = (\"sex\" in cau3) or (\"racist\" in cau3) or (\"violence\" in cau3) or (\"child abuse\" in cau3)\n",
    "print(cau1, cau2, cau3, sep = \"\\n\")\n",
    "print(\"Post co bi block khong? -\", check1 and check2 and check3)"
   ]
  }
 ],
 "metadata": {
  "kernelspec": {
   "display_name": "Python 3 (ipykernel)",
   "language": "python",
   "name": "python3"
  },
  "language_info": {
   "codemirror_mode": {
    "name": "ipython",
    "version": 3
   },
   "file_extension": ".py",
   "mimetype": "text/x-python",
   "name": "python",
   "nbconvert_exporter": "python",
   "pygments_lexer": "ipython3",
   "version": "3.9.7"
  }
 },
 "nbformat": 4,
 "nbformat_minor": 5
}
