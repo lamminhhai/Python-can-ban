{
 "cells": [
  {
   "cell_type": "code",
   "execution_count": 9,
   "id": "a16b5e76",
   "metadata": {},
   "outputs": [
    {
     "name": "stdout",
     "output_type": "stream",
     "text": [
      "['34', '675', '644']\n",
      "Số chẵn lớn nhất là:  644\n",
      "Số lẻ nhỏ nhất là:  675\n",
      "None\n"
     ]
    }
   ],
   "source": [
    "def max_chan_min_le(chuoi):\n",
    "    '''Hàm tìm số chẵn lớn nhất, số lẻ nhỏ nhất trong chuỗi'''\n",
    "    chuoi = chuoi.strip().split()\n",
    "    num = ''\n",
    "    for i in chuoi:\n",
    "        if i.isnumeric():\n",
    "            num += i + ' '\n",
    "    num = num.strip().split()\n",
    "    print(num)\n",
    "    max_num = 0\n",
    "    max_chan = 0\n",
    "    for i in num:\n",
    "        if int(i) >= max_num:\n",
    "            max_num = int(i)\n",
    "    min_le = max_num\n",
    "    for i in num:\n",
    "        if int(i)%2 == 0:\n",
    "            if int(i) >= max_chan:\n",
    "                max_chan = int(i)\n",
    "        if int(i)%2 != 0:\n",
    "            if int(i) <= min_le:\n",
    "                min_le = int(i)\n",
    "    if max_chan == 0:\n",
    "        print('Không có số chẵn')\n",
    "    else:\n",
    "        print('Số chẵn lớn nhất là: ', max_chan)\n",
    "    if min_le%2 == 0:\n",
    "        print('Không có số lẻ')\n",
    "    else:\n",
    "        print('Số lẻ nhỏ nhất là: ', min_le)\n",
    "        \n",
    "text = 'hgfhgjh1232 34 675 644 fad989  '\n",
    "print(max_chan_min_le(text))"
   ]
  },
  {
   "cell_type": "code",
   "execution_count": null,
   "id": "043e68c6",
   "metadata": {},
   "outputs": [],
   "source": []
  }
 ],
 "metadata": {
  "kernelspec": {
   "display_name": "Python 3 (ipykernel)",
   "language": "python",
   "name": "python3"
  },
  "language_info": {
   "codemirror_mode": {
    "name": "ipython",
    "version": 3
   },
   "file_extension": ".py",
   "mimetype": "text/x-python",
   "name": "python",
   "nbconvert_exporter": "python",
   "pygments_lexer": "ipython3",
   "version": "3.9.7"
  }
 },
 "nbformat": 4,
 "nbformat_minor": 5
}
