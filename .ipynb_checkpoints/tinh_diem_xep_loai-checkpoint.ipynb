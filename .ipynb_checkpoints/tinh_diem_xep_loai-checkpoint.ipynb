{
 "cells": [
  {
   "cell_type": "code",
   "execution_count": 4,
   "id": "1a219b95",
   "metadata": {},
   "outputs": [
    {
     "name": "stdout",
     "output_type": "stream",
     "text": [
      "Nhap diem kiem tra 15 phut: 3\n",
      "Nhap diem kiem tra giua ky: 4\n",
      "Nhap diem kiem tra cuoi ky: 5\n",
      "Diem TB:  4.222222222222222\n",
      "Xep loai Yeu\n",
      "None\n"
     ]
    }
   ],
   "source": [
    "def diemTB(a,b,c):\n",
    "    diem15p = float(input(\"Nhap diem kiem tra 15 phut: \"))\n",
    "    diemGiuaky = float(input(\"Nhap diem kiem tra giua ky: \"))\n",
    "    diemCuoiky = float(input(\"Nhap diem kiem tra cuoi ky: \"))\n",
    "    diemTB = (diem15p + diemGiuaky*1.5 + diemCuoiky*2)/4.5\n",
    "    print(\"Diem TB: \", diemTB)\n",
    "    if diem15p<0 or diemGiuaky<0 or diemCuoiky<0 or diem15p>10 or diemGiuaky>10 or diemCuoiky>10:\n",
    "        print(\"Loi nhap du lieu!\")\n",
    "    else:\n",
    "        if diemTB>=8:\n",
    "            print(\"Xep loai Gioi\")\n",
    "        elif diemTB>=6.5:\n",
    "            print(\"Xep loai Kha\")\n",
    "        elif diemTB>=5:\n",
    "            print(\"Xep loai Trung binh\")\n",
    "        else:\n",
    "            print(\"Xep loai Yeu\")\n",
    "    return\n",
    "            \n",
    "print(diemTB(3,4,5))"
   ]
  },
  {
   "cell_type": "code",
   "execution_count": null,
   "id": "c9403c66",
   "metadata": {},
   "outputs": [],
   "source": []
  },
  {
   "cell_type": "code",
   "execution_count": null,
   "id": "d9bf3896",
   "metadata": {},
   "outputs": [],
   "source": []
  }
 ],
 "metadata": {
  "kernelspec": {
   "display_name": "Python 3 (ipykernel)",
   "language": "python",
   "name": "python3"
  },
  "language_info": {
   "codemirror_mode": {
    "name": "ipython",
    "version": 3
   },
   "file_extension": ".py",
   "mimetype": "text/x-python",
   "name": "python",
   "nbconvert_exporter": "python",
   "pygments_lexer": "ipython3",
   "version": "3.9.7"
  }
 },
 "nbformat": 4,
 "nbformat_minor": 5
}
