{
 "cells": [
  {
   "cell_type": "code",
   "execution_count": 1,
   "id": "ea060c81",
   "metadata": {},
   "outputs": [],
   "source": [
    "import turtle"
   ]
  },
  {
   "cell_type": "code",
   "execution_count": 2,
   "id": "b8bb7990",
   "metadata": {},
   "outputs": [],
   "source": [
    "tl = turtle.Turtle()\n",
    "tl.hideturtle()\n",
    "tl.speed(1)\n",
    "tl.pencolor('red')\n",
    "tl.fillcolor('red')"
   ]
  },
  {
   "cell_type": "code",
   "execution_count": 3,
   "id": "39116e79",
   "metadata": {},
   "outputs": [],
   "source": [
    "tl.begin_fill()\n",
    "tl.forward(300)\n",
    "tl.right(90)\n",
    "tl.forward(200)\n",
    "tl.right(90)\n",
    "tl.forward(300)\n",
    "tl.right(90)\n",
    "tl.forward(200)\n",
    "tl.end_fill()\n",
    "\n",
    "tl.penup()\n",
    "tl.right(90)\n",
    "tl.forward(100)\n",
    "tl.right(90)\n",
    "tl.forward(82)\n",
    "tl.pendown()\n",
    "\n",
    "tl.fillcolor('white')\n",
    "tl.forward(33)\n",
    "tl.left(90)\n",
    "tl.forward(33)\n",
    "tl.right(90)\n",
    "tl.forward(33)\n",
    "tl.left(90)\n",
    "tl.forward(33)\n",
    "tl.left(90)\n",
    "tl.forward(33)\n",
    "tl.right(90)\n",
    "tl.forward(33)\n",
    "tl.left(90)\n",
    "tl.forward(33)\n",
    "\n"
   ]
  },
  {
   "cell_type": "code",
   "execution_count": null,
   "id": "d65654cf",
   "metadata": {},
   "outputs": [],
   "source": [
    "turtle.done()"
   ]
  }
 ],
 "metadata": {
  "kernelspec": {
   "display_name": "Python 3 (ipykernel)",
   "language": "python",
   "name": "python3"
  },
  "language_info": {
   "codemirror_mode": {
    "name": "ipython",
    "version": 3
   },
   "file_extension": ".py",
   "mimetype": "text/x-python",
   "name": "python",
   "nbconvert_exporter": "python",
   "pygments_lexer": "ipython3",
   "version": "3.9.7"
  }
 },
 "nbformat": 4,
 "nbformat_minor": 5
}
