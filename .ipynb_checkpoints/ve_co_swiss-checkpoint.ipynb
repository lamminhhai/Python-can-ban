{
 "cells": [
  {
   "cell_type": "code",
   "execution_count": 1,
   "id": "ea060c81",
   "metadata": {},
   "outputs": [],
   "source": [
    "import turtle"
   ]
  },
  {
   "cell_type": "code",
   "execution_count": 2,
   "id": "b8bb7990",
   "metadata": {},
   "outputs": [],
   "source": [
    "tl = turtle.Turtle()\n",
    "tl.hideturtle()\n",
    "tl.speed(10)\n",
    "tl.pencolor('red')\n",
    "w = 510\n",
    "h = w * 2/3\n",
    "x = h * 0.165"
   ]
  },
  {
   "cell_type": "code",
   "execution_count": 3,
   "id": "39116e79",
   "metadata": {},
   "outputs": [],
   "source": [
    "#đặt lại điểm bắt đầu\n",
    "tl.penup()\n",
    "tl.backward(w/2)\n",
    "tl.left(90)\n",
    "tl.forward(w/3)\n",
    "tl.right(90)\n",
    "tl.pendown()\n",
    "\n",
    "#vẽ khung\n",
    "tl.fillcolor('red')\n",
    "tl.begin_fill()\n",
    "tl.forward(w)\n",
    "tl.right(90)\n",
    "tl.forward(h)\n",
    "tl.right(90)\n",
    "tl.forward(w)\n",
    "tl.right(90)\n",
    "tl.forward(h)\n",
    "tl.end_fill()\n",
    "\n",
    "#vẽ chữ thập\n",
    "tl.penup()\n",
    "tl.right(90)\n",
    "tl.forward(w/3)\n",
    "tl.right(90)\n",
    "tl.forward(h * 0.4)\n",
    "tl.pendown()\n",
    "\n",
    "tl.fillcolor('white')\n",
    "tl.begin_fill()\n",
    "tl.forward(x)\n",
    "tl.left(90)\n",
    "tl.forward(x)\n",
    "tl.right(90)\n",
    "tl.forward(x)\n",
    "tl.left(90)\n",
    "tl.forward(x)\n",
    "tl.left(90)\n",
    "tl.forward(x)\n",
    "tl.right(90)\n",
    "tl.forward(x)\n",
    "tl.left(90)\n",
    "tl.forward(x)\n",
    "tl.left(90)\n",
    "tl.forward(x)\n",
    "tl.right(90)\n",
    "tl.forward(x)\n",
    "tl.left(90)\n",
    "tl.forward(x)\n",
    "tl.left(90)\n",
    "tl.forward(x)\n",
    "tl.end_fill()"
   ]
  },
  {
   "cell_type": "code",
   "execution_count": null,
   "id": "d65654cf",
   "metadata": {},
   "outputs": [],
   "source": [
    "turtle.done()"
   ]
  }
 ],
 "metadata": {
  "kernelspec": {
   "display_name": "Python 3 (ipykernel)",
   "language": "python",
   "name": "python3"
  },
  "language_info": {
   "codemirror_mode": {
    "name": "ipython",
    "version": 3
   },
   "file_extension": ".py",
   "mimetype": "text/x-python",
   "name": "python",
   "nbconvert_exporter": "python",
   "pygments_lexer": "ipython3",
   "version": "3.9.7"
  }
 },
 "nbformat": 4,
 "nbformat_minor": 5
}
