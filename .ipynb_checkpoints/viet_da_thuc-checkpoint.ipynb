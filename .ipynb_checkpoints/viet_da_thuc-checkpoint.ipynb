{
 "cells": [
  {
   "cell_type": "code",
   "execution_count": 4,
   "id": "daa915ca",
   "metadata": {},
   "outputs": [
    {
     "name": "stdout",
     "output_type": "stream",
     "text": [
      "Nhap cac he so a, b, c cua da thuc:\n",
      "-4\n",
      "-5\n",
      "-6\n",
      "Da thuc:  -4x^2 -5x -6\n"
     ]
    }
   ],
   "source": [
    "print(\"Nhap cac he so a, b, c cua da thuc:\")\n",
    "a = int(input())\n",
    "b = int(input())\n",
    "c = int(input())\n",
    "\n",
    "if a == 1:\n",
    "    cum1 = \"x^2 \"\n",
    "elif a == -1:\n",
    "    cum1 = \"-x^2 \"\n",
    "elif a == 0:\n",
    "    cum1 = \"\"\n",
    "else:\n",
    "    cum1 = str(a) + \"x^2 \"\n",
    "if b == 1:\n",
    "    cum2 = \"+ x \"\n",
    "elif b == -1:\n",
    "    cum2 = \"- x \"\n",
    "elif b == 0:\n",
    "    cum2 = \"\"\n",
    "else:\n",
    "    cum2 = str(b) + \"x \"\n",
    "if c == 0:\n",
    "    cum3 = \"\"\n",
    "else:\n",
    "    cum3 = str(c)\n",
    "print(\"Da thuc: \", cum1 + cum2 + cum3)\n",
    "    "
   ]
  },
  {
   "cell_type": "code",
   "execution_count": null,
   "id": "5f5fd2c0",
   "metadata": {},
   "outputs": [],
   "source": []
  }
 ],
 "metadata": {
  "kernelspec": {
   "display_name": "Python 3 (ipykernel)",
   "language": "python",
   "name": "python3"
  },
  "language_info": {
   "codemirror_mode": {
    "name": "ipython",
    "version": 3
   },
   "file_extension": ".py",
   "mimetype": "text/x-python",
   "name": "python",
   "nbconvert_exporter": "python",
   "pygments_lexer": "ipython3",
   "version": "3.9.7"
  }
 },
 "nbformat": 4,
 "nbformat_minor": 5
}
