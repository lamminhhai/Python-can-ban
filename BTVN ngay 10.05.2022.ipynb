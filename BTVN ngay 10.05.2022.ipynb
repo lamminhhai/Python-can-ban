{
 "cells": [
  {
   "cell_type": "code",
   "execution_count": 1,
   "id": "f2098099",
   "metadata": {},
   "outputs": [
    {
     "name": "stdout",
     "output_type": "stream",
     "text": [
      "Mời bạn nhập nghĩa tiếng Việt của từ xuất hiện dưới đây: \n",
      "Q:  four\n",
      "A: bốn\n",
      "=> Bạn trả lời ĐÚNG, tiếp tục nào: \n",
      "Q:  five\n",
      "A: năm\n",
      "=> Bạn trả lời ĐÚNG, tiếp tục nào: \n",
      "Q:  three\n",
      "A: hai\n",
      "=> Bạn trả lời SAI, làm lại nào: \n",
      "Q:  one\n",
      "A: ba\n",
      "=> Bạn trả lời SAI, làm lại nào: \n",
      "Q:  three\n",
      "A: quit\n",
      "Bạn đã dừng cuộc chơi! Thanks!\n"
     ]
    }
   ],
   "source": [
    "import random\n",
    "dicts = {'one': 'một', 'two': 'hai', 'three': 'ba', 'four': 'bốn', 'five': 'năm'}\n",
    "print('Mời bạn nhập nghĩa tiếng Việt của từ xuất hiện dưới đây: ')\n",
    "Q = random.choice([i for i in dicts.keys()])\n",
    "print('Q: ', Q)\n",
    "A = input('A: ').lower()\n",
    "while A != 'quit':\n",
    "    if A == dicts.get(Q):\n",
    "        print('=> Bạn trả lời ĐÚNG, tiếp tục nào: ')\n",
    "    else:\n",
    "        print('=> Bạn trả lời SAI, làm lại nào: ')\n",
    "    Q = random.choice([i for i in dicts.keys()])\n",
    "    print('Q: ', Q)\n",
    "    A = input('A: ').lower()\n",
    "if A == 'quit':\n",
    "    print('Bạn đã dừng cuộc chơi! Thanks!')"
   ]
  },
  {
   "cell_type": "code",
   "execution_count": null,
   "id": "e097a22e",
   "metadata": {},
   "outputs": [],
   "source": []
  }
 ],
 "metadata": {
  "kernelspec": {
   "display_name": "Python 3 (ipykernel)",
   "language": "python",
   "name": "python3"
  },
  "language_info": {
   "codemirror_mode": {
    "name": "ipython",
    "version": 3
   },
   "file_extension": ".py",
   "mimetype": "text/x-python",
   "name": "python",
   "nbconvert_exporter": "python",
   "pygments_lexer": "ipython3",
   "version": "3.9.7"
  }
 },
 "nbformat": 4,
 "nbformat_minor": 5
}
