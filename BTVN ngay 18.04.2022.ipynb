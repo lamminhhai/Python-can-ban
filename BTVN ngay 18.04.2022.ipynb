{
 "cells": [
  {
   "cell_type": "code",
   "execution_count": null,
   "id": "3fa73e31",
   "metadata": {},
   "outputs": [],
   "source": [
    "#Vẽ N ngôi sao:\n",
    "N = int(input('Nhap so hinh sao: '))\n",
    "import turtle\n",
    "p = turtle.Turtle()\n",
    "for i in range(1,N+1):\n",
    "    j = 0\n",
    "    while j <= 5:\n",
    "        p.fd(50)\n",
    "        p.right(144)\n",
    "        j += 1\n",
    "    p.left(144)\n",
    "turtle.done()"
   ]
  }
 ],
 "metadata": {
  "kernelspec": {
   "display_name": "Python 3 (ipykernel)",
   "language": "python",
   "name": "python3"
  },
  "language_info": {
   "codemirror_mode": {
    "name": "ipython",
    "version": 3
   },
   "file_extension": ".py",
   "mimetype": "text/x-python",
   "name": "python",
   "nbconvert_exporter": "python",
   "pygments_lexer": "ipython3",
   "version": "3.9.7"
  }
 },
 "nbformat": 4,
 "nbformat_minor": 5
}
