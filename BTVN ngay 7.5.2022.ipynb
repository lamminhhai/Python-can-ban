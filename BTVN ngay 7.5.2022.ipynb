{
 "cells": [
  {
   "cell_type": "code",
   "execution_count": 7,
   "id": "fb6df076",
   "metadata": {},
   "outputs": [
    {
     "name": "stdout",
     "output_type": "stream",
     "text": [
      "Nhập số phần tử: 7\n",
      "(6, 9, 8, 5, 7, 4, 6)\n",
      "(12, 18, 16, 10, 14, 8, 12)\n",
      "Tập hợp các phần tử chung là:  [8]\n"
     ]
    }
   ],
   "source": [
    "import random\n",
    "n = int(input('Nhập số phần tử: '))\n",
    "tuple1 = []\n",
    "tuple2 = []\n",
    "chung = []\n",
    "for i in range(n):\n",
    "    num = random.choice([j for j in range(10)])\n",
    "    tuple1.append(num)\n",
    "    tuple2.append(num*2)\n",
    "print(tuple(tuple1))\n",
    "print(tuple(tuple2))\n",
    "for i in tuple1:\n",
    "    if i in tuple2 and i not in chung:\n",
    "        chung.append(i)\n",
    "print('Tập hợp các phần tử chung là: ', chung)"
   ]
  },
  {
   "cell_type": "code",
   "execution_count": 8,
   "id": "44370158",
   "metadata": {},
   "outputs": [
    {
     "name": "stdout",
     "output_type": "stream",
     "text": [
      "Nhập số phần tử của list A: 3\n",
      "Nhập số phần tử của phần tử con trong A: 3\n",
      "List A là:  ([3, 1, 2], [0, 2, 4], [1, 0, 2])\n",
      "[2.0, 2.0, 1.0]\n"
     ]
    }
   ],
   "source": [
    "import random\n",
    "def tong(n):\n",
    "    'Hàm tính tổng của n số hạng'\n",
    "    tong = 0\n",
    "    for i in n:\n",
    "        tong += i\n",
    "    return tong \n",
    "m = int(input('Nhập số phần tử của list A: '))\n",
    "n = int(input('Nhập số phần tử của phần tử con trong A: '))\n",
    "listA = []\n",
    "for i in range(m):\n",
    "    con = []\n",
    "    for j in range(n):\n",
    "        num = random.choice([k for k in range(5)])\n",
    "        con.append(num)\n",
    "    listA.append(con)\n",
    "print('List A là: ', tuple(listA))\n",
    "list_gttb = []\n",
    "for i in listA:\n",
    "    gt_tb = tong(i)/n\n",
    "    list_gttb.append(gt_tb)\n",
    "print(list_gttb)"
   ]
  },
  {
   "cell_type": "code",
   "execution_count": null,
   "id": "c8a6a5ff",
   "metadata": {},
   "outputs": [],
   "source": []
  }
 ],
 "metadata": {
  "kernelspec": {
   "display_name": "Python 3 (ipykernel)",
   "language": "python",
   "name": "python3"
  },
  "language_info": {
   "codemirror_mode": {
    "name": "ipython",
    "version": 3
   },
   "file_extension": ".py",
   "mimetype": "text/x-python",
   "name": "python",
   "nbconvert_exporter": "python",
   "pygments_lexer": "ipython3",
   "version": "3.9.7"
  }
 },
 "nbformat": 4,
 "nbformat_minor": 5
}
