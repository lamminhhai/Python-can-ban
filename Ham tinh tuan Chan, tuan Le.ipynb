{
 "cells": [
  {
   "cell_type": "code",
   "execution_count": 3,
   "id": "016d4627",
   "metadata": {},
   "outputs": [
    {
     "name": "stdout",
     "output_type": "stream",
     "text": [
      "Nhập năm: 2021\n",
      "Nhập tháng: 2\n",
      "Hàm tính số tuần, tuần chẵn, tuần lẻ trong tháng\n",
      "(4, 4, 0)\n"
     ]
    }
   ],
   "source": [
    "import datetime\n",
    "year = int(input('Nhập năm: '))\n",
    "month = int(input('Nhập tháng: '))\n",
    "\n",
    "def weekcount(year, month):\n",
    "    '''Hàm tính số tuần, tuần chẵn, tuần lẻ trong tháng'''\n",
    "# Tính số ngày trong tháng:\n",
    "    songay_inMonth = 0\n",
    "    if month == 1 or month == 3 or month == 5 or month == 7 or month == 8 or month == 10 or month == 12:\n",
    "        songay_inMonth = 31\n",
    "    if month == 4 or month == 6 or month == 9 or month == 11:\n",
    "        songay_inMonth = 30\n",
    "    if month == 2:\n",
    "        if year%400==0 or (year%4==0 and year%100!=0):\n",
    "            songay_inMonth = 29\n",
    "        else:\n",
    "            songay_inMonth = 28\n",
    "\n",
    "    # Tính số tuần, tuần chẵn, lẻ:\n",
    "    tuanLe = tuanChan = 0\n",
    "    Monday = datetime.date(year, month, 1).weekday()\n",
    "    if Monday == 0:\n",
    "        tuanChan = songay_inMonth//7\n",
    "        if songay_inMonth%7 == 0:\n",
    "            tuanLe = 0\n",
    "        else:\n",
    "            tuanLe = 1\n",
    "    else:\n",
    "        tuanChan = (songay_inMonth - 7 + Monday)//7\n",
    "        if (songay_inMonth - 7 + Monday)%7 == 0:\n",
    "            tuanLe = 1\n",
    "        else:\n",
    "            tuanLe = 2\n",
    "    soTuan = tuanLe + tuanChan\n",
    "    return(soTuan, tuanChan, tuanLe)\n",
    "\n",
    "print(weekcount.__doc__)\n",
    "print(weekcount(year, month))"
   ]
  }
 ],
 "metadata": {
  "kernelspec": {
   "display_name": "Python 3 (ipykernel)",
   "language": "python",
   "name": "python3"
  },
  "language_info": {
   "codemirror_mode": {
    "name": "ipython",
    "version": 3
   },
   "file_extension": ".py",
   "mimetype": "text/x-python",
   "name": "python",
   "nbconvert_exporter": "python",
   "pygments_lexer": "ipython3",
   "version": "3.9.7"
  }
 },
 "nbformat": 4,
 "nbformat_minor": 5
}
