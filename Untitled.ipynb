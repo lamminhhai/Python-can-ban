{
 "cells": [
  {
   "cell_type": "code",
   "execution_count": 9,
   "id": "4e79de77",
   "metadata": {},
   "outputs": [
    {
     "name": "stdout",
     "output_type": "stream",
     "text": [
      "Nhap ho va ten: lâm    minh    Hải\n",
      "lam    minh    Hai\n"
     ]
    }
   ],
   "source": [
    "nguyenam = 'áàảãạăắằẳẵặâấầẩẫậíìỉĩịéèẻẽẹếềểễệúùủũụóòỏõọốồổỗộớờởỡợdđ'\n",
    "name = str(input('Nhap ho va ten: '))\n",
    "realname = ''\n",
    "for i in name:\n",
    "    if i in nguyenam[0:16]:\n",
    "        i = 'a'\n",
    "    if i in nguyenam[17:21]:\n",
    "        i = 'i'\n",
    "    if i in nguyenam[22:31]:\n",
    "        i = 'e'\n",
    "    if i in nguyenam[32:36]:\n",
    "        i = 'u'\n",
    "    if i in nguyenam[37:]:\n",
    "        i = 'o'\n",
    "    else:\n",
    "        i = i\n",
    "    realname += i\n",
    "print(realname)"
   ]
  },
  {
   "cell_type": "code",
   "execution_count": null,
   "id": "ea6efd76",
   "metadata": {},
   "outputs": [],
   "source": []
  }
 ],
 "metadata": {
  "kernelspec": {
   "display_name": "Python 3 (ipykernel)",
   "language": "python",
   "name": "python3"
  },
  "language_info": {
   "codemirror_mode": {
    "name": "ipython",
    "version": 3
   },
   "file_extension": ".py",
   "mimetype": "text/x-python",
   "name": "python",
   "nbconvert_exporter": "python",
   "pygments_lexer": "ipython3",
   "version": "3.9.7"
  }
 },
 "nbformat": 4,
 "nbformat_minor": 5
}
