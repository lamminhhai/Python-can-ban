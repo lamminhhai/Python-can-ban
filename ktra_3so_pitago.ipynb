{
 "cells": [
  {
   "cell_type": "code",
   "execution_count": null,
   "id": "1409d19d",
   "metadata": {},
   "outputs": [
    {
     "name": "stdout",
     "output_type": "stream",
     "text": [
      "Nhap 3 so bat ky: \n"
     ]
    }
   ],
   "source": [
    "print(\"Nhap 3 so bat ky: \")\n",
    "a = int(input())\n",
    "b = int(input())\n",
    "c = int(input())\n",
    "ab = a**2 + b**2\n",
    "bc = b**2 + c**2\n",
    "ac = a**2 + c**2\n",
    "if ab == c**2 or bc == a**2 or ac == b**2:\n",
    "    print(\"Ba so vua nhap la bo so Pitago\")\n",
    "else:\n",
    "    print(\"Ba so vua nhap khong phai bo so Pitago\")"
   ]
  },
  {
   "cell_type": "code",
   "execution_count": null,
   "id": "ca375a7f",
   "metadata": {},
   "outputs": [],
   "source": []
  }
 ],
 "metadata": {
  "kernelspec": {
   "display_name": "Python 3 (ipykernel)",
   "language": "python",
   "name": "python3"
  },
  "language_info": {
   "codemirror_mode": {
    "name": "ipython",
    "version": 3
   },
   "file_extension": ".py",
   "mimetype": "text/x-python",
   "name": "python",
   "nbconvert_exporter": "python",
   "pygments_lexer": "ipython3",
   "version": "3.9.7"
  }
 },
 "nbformat": 4,
 "nbformat_minor": 5
}
