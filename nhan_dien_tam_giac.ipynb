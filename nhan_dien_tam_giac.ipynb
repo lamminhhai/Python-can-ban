{
 "cells": [
  {
   "cell_type": "code",
   "execution_count": 24,
   "id": "94aa4eff",
   "metadata": {},
   "outputs": [
    {
     "name": "stdout",
     "output_type": "stream",
     "text": [
      "3.605551275463989 10.0 13.601470508735444\n"
     ]
    }
   ],
   "source": [
    "#nhap toa do 3 diem A, B, C\n",
    "xA, yA = 3, 4\n",
    "xB, yB = 5, 7\n",
    "xC, yC = 11, 15\n",
    "\n",
    "#tinh chieu dai cac doan thang\n",
    "d1 = ((xB - xA)**2 + (yB - yA)**2)**0.5\n",
    "d2 = ((xC - xB)**2 + (yC - yB)**2)**0.5\n",
    "d3 = ((xC - xA)**2 + (yC - yA)**2)**0.5\n",
    "print (d1,d2,d3)"
   ]
  },
  {
   "cell_type": "code",
   "execution_count": 25,
   "id": "692ec586",
   "metadata": {},
   "outputs": [
    {
     "data": {
      "text/plain": [
       "False"
      ]
     },
     "execution_count": 25,
     "metadata": {},
     "output_type": "execute_result"
    }
   ],
   "source": [
    "d3 == d1 + d2"
   ]
  },
  {
   "cell_type": "code",
   "execution_count": 28,
   "id": "6a5c937e",
   "metadata": {},
   "outputs": [
    {
     "name": "stdout",
     "output_type": "stream",
     "text": [
      "ABC là 1 tam giac\n"
     ]
    }
   ],
   "source": [
    "print(\"ABC là 1 tam giac\")"
   ]
  },
  {
   "cell_type": "code",
   "execution_count": 26,
   "id": "097a1b4f",
   "metadata": {},
   "outputs": [
    {
     "data": {
      "text/plain": [
       "False"
      ]
     },
     "execution_count": 26,
     "metadata": {},
     "output_type": "execute_result"
    }
   ],
   "source": [
    "d1 == d2 == d3"
   ]
  },
  {
   "cell_type": "code",
   "execution_count": 33,
   "id": "b20f52a3",
   "metadata": {},
   "outputs": [
    {
     "name": "stdout",
     "output_type": "stream",
     "text": [
      "ABC khong phai tam giac deu\n"
     ]
    }
   ],
   "source": [
    "print(\"ABC khong phai tam giac deu\")"
   ]
  },
  {
   "cell_type": "code",
   "execution_count": 27,
   "id": "2c23e499",
   "metadata": {},
   "outputs": [
    {
     "data": {
      "text/plain": [
       "False"
      ]
     },
     "execution_count": 27,
     "metadata": {},
     "output_type": "execute_result"
    }
   ],
   "source": [
    "d3**2 == d1**2 + d2**2"
   ]
  },
  {
   "cell_type": "code",
   "execution_count": 32,
   "id": "b08f44eb",
   "metadata": {},
   "outputs": [
    {
     "name": "stdout",
     "output_type": "stream",
     "text": [
      "ABC khong phai tam giac vuong\n"
     ]
    }
   ],
   "source": [
    "print(\"ABC khong phai tam giac vuong\")"
   ]
  },
  {
   "cell_type": "code",
   "execution_count": 29,
   "id": "32f935a4",
   "metadata": {},
   "outputs": [
    {
     "data": {
      "text/plain": [
       "True"
      ]
     },
     "execution_count": 29,
     "metadata": {},
     "output_type": "execute_result"
    }
   ],
   "source": [
    "d1 != d2 != d3"
   ]
  },
  {
   "cell_type": "code",
   "execution_count": 31,
   "id": "29ba5c48",
   "metadata": {},
   "outputs": [
    {
     "name": "stdout",
     "output_type": "stream",
     "text": [
      "ABC khong phai tam giac can\n"
     ]
    }
   ],
   "source": [
    "print(\"ABC khong phai tam giac can\")"
   ]
  },
  {
   "cell_type": "code",
   "execution_count": 30,
   "id": "770c9167",
   "metadata": {},
   "outputs": [
    {
     "name": "stdout",
     "output_type": "stream",
     "text": [
      "ABC la tam giac thuong\n"
     ]
    }
   ],
   "source": [
    "print(\"ABC la tam giac thuong\")"
   ]
  }
 ],
 "metadata": {
  "kernelspec": {
   "display_name": "Python 3 (ipykernel)",
   "language": "python",
   "name": "python3"
  },
  "language_info": {
   "codemirror_mode": {
    "name": "ipython",
    "version": 3
   },
   "file_extension": ".py",
   "mimetype": "text/x-python",
   "name": "python",
   "nbconvert_exporter": "python",
   "pygments_lexer": "ipython3",
   "version": "3.9.7"
  }
 },
 "nbformat": 4,
 "nbformat_minor": 5
}
