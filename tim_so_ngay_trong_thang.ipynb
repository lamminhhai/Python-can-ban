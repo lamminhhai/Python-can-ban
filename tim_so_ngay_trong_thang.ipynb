{
 "cells": [
  {
   "cell_type": "code",
   "execution_count": 2,
   "id": "cbc2d2f5",
   "metadata": {},
   "outputs": [
    {
     "name": "stdout",
     "output_type": "stream",
     "text": [
      "Nhap thang: 12\n",
      "Nhap nam: 2022\n",
      "1\n",
      "Thang 12 nam 2022 co 31 ngay\n"
     ]
    }
   ],
   "source": [
    "thang = int(input(\"Nhap thang: \"))\n",
    "nam = int(input(\"Nhap nam: \"))\n",
    "if thang <= 0 or thang >12 or nam <= 0:\n",
    "    print(\"Du lieu dau vao sai\")\n",
    "else:\n",
    "    if thang == 1 or thang == 3 or thang == 5 or thang == 7 or thang == 8 or thang == 10 or thang == 12:\n",
    "        print(\"Thang {0} nam {1} co 31 ngay\".format(thang,nam))\n",
    "    elif thang == 4 or thang == 6 or thang == 9 or thang == 11:\n",
    "        print(\"Thang {0} nam {1} co 30 ngay\".format(thang,nam))\n",
    "    elif thang == 2 and nam % 400 == 0:\n",
    "        print(\"Thang 2 nam {0} co 29 ngay\".format(nam))\n",
    "    else:\n",
    "        print (\"Thang 2 nam {0} co 28 ngay\".format(nam))\n",
    "        "
   ]
  },
  {
   "cell_type": "code",
   "execution_count": null,
   "id": "e13738be",
   "metadata": {},
   "outputs": [],
   "source": []
  },
  {
   "cell_type": "code",
   "execution_count": null,
   "id": "9c9d75f7",
   "metadata": {},
   "outputs": [],
   "source": []
  }
 ],
 "metadata": {
  "kernelspec": {
   "display_name": "Python 3 (ipykernel)",
   "language": "python",
   "name": "python3"
  },
  "language_info": {
   "codemirror_mode": {
    "name": "ipython",
    "version": 3
   },
   "file_extension": ".py",
   "mimetype": "text/x-python",
   "name": "python",
   "nbconvert_exporter": "python",
   "pygments_lexer": "ipython3",
   "version": "3.9.7"
  }
 },
 "nbformat": 4,
 "nbformat_minor": 5
}
