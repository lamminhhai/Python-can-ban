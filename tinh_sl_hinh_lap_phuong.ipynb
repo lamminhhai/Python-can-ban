{
 "cells": [
  {
   "cell_type": "code",
   "execution_count": 1,
   "id": "0c2a6b24",
   "metadata": {},
   "outputs": [
    {
     "name": "stdout",
     "output_type": "stream",
     "text": [
      "19314\n"
     ]
    }
   ],
   "source": [
    "#nhap chieu dai cac canh hinh hop chu nhat\n",
    "x = 111\n",
    "y = 87\n",
    "z = 56\n",
    "\n",
    "#nhap canh hinh lap phuong\n",
    "a = 3\n",
    "\n",
    "#sl hinh lap phuong toi da\n",
    "sl = (x//a)*(y//a)*(z//a)\n",
    "print(sl)"
   ]
  }
 ],
 "metadata": {
  "kernelspec": {
   "display_name": "Python 3 (ipykernel)",
   "language": "python",
   "name": "python3"
  },
  "language_info": {
   "codemirror_mode": {
    "name": "ipython",
    "version": 3
   },
   "file_extension": ".py",
   "mimetype": "text/x-python",
   "name": "python",
   "nbconvert_exporter": "python",
   "pygments_lexer": "ipython3",
   "version": "3.9.7"
  }
 },
 "nbformat": 4,
 "nbformat_minor": 5
}
