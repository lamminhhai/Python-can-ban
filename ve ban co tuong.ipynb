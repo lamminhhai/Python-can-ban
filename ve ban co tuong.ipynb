{
 "cells": [
  {
   "cell_type": "code",
   "execution_count": null,
   "id": "35e2e63d",
   "metadata": {},
   "outputs": [
    {
     "name": "stdout",
     "output_type": "stream",
     "text": [
      "(-25.00,275.00)\n"
     ]
    }
   ],
   "source": [
    "import turtle\n",
    "p = turtle.Turtle()\n",
    "p.up()\n",
    "p.goto(-200,-200)\n",
    "p.down()\n",
    "p.speed(50)\n",
    "# tấm da\n",
    "i = 0\n",
    "while i < 2:\n",
    "    p.fd(450)\n",
    "    p.lt(90)\n",
    "    p.fd(500)\n",
    "    p.lt(90)\n",
    "    i +=1\n",
    "# đường viền đậm\n",
    "p.up()\n",
    "p.goto(-178,-178)\n",
    "p.down()\n",
    "p.pensize(2)\n",
    "i = 0\n",
    "while i < 2:\n",
    "    p.fd(406)\n",
    "    p.lt(90)\n",
    "    p.fd(456)\n",
    "    p.lt(90)\n",
    "    i +=1\n",
    "# đường viền nhạt\n",
    "p.up()\n",
    "p.goto(-175,-175)\n",
    "p.down()\n",
    "p.pensize(1)\n",
    "i = 0\n",
    "while i < 2:\n",
    "    p.fd(400)\n",
    "    p.lt(90)\n",
    "    p.fd(450)\n",
    "    p.lt(90)\n",
    "    i +=1\n",
    "#caro\n",
    "p.pensize(1)\n",
    "i = 0\n",
    "j = -175\n",
    "while i < 10:\n",
    "    p.fd(400)\n",
    "    p.up()\n",
    "    p.goto(-175, j)\n",
    "    p.down()\n",
    "    i += 1\n",
    "    j += 50\n",
    "p.rt(90)\n",
    "i = 0\n",
    "j = -175\n",
    "while i < 9:\n",
    "    p.fd(200)\n",
    "    p.up()\n",
    "    p.fd(50)\n",
    "    p.down()\n",
    "    p.fd(200)\n",
    "    p.up()\n",
    "    p.goto(j, 275)\n",
    "    p.down()\n",
    "    i += 1\n",
    "    j += 50\n",
    "p.goto(-25, 275)\n",
    "p.goto()\n",
    "print(p.position())\n",
    "\n",
    "\n",
    "turtle.done()"
   ]
  },
  {
   "cell_type": "code",
   "execution_count": null,
   "id": "098ed1d6",
   "metadata": {},
   "outputs": [],
   "source": []
  }
 ],
 "metadata": {
  "kernelspec": {
   "display_name": "Python 3 (ipykernel)",
   "language": "python",
   "name": "python3"
  },
  "language_info": {
   "codemirror_mode": {
    "name": "ipython",
    "version": 3
   },
   "file_extension": ".py",
   "mimetype": "text/x-python",
   "name": "python",
   "nbconvert_exporter": "python",
   "pygments_lexer": "ipython3",
   "version": "3.9.7"
  }
 },
 "nbformat": 4,
 "nbformat_minor": 5
}
