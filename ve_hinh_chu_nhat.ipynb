{
 "cells": [
  {
   "cell_type": "code",
   "execution_count": 1,
   "id": "c956d648",
   "metadata": {},
   "outputs": [],
   "source": [
    "import turtle"
   ]
  },
  {
   "cell_type": "code",
   "execution_count": 2,
   "id": "63b24ad9",
   "metadata": {},
   "outputs": [],
   "source": [
    "tl = turtle.Turtle()\n",
    "tl.shape('turtle')\n",
    "tl.pensize(1)\n",
    "tl.pencolor('yellow')\n",
    "tl.speed(50)\n",
    "tl.fillcolor('yellow')"
   ]
  },
  {
   "cell_type": "code",
   "execution_count": 3,
   "id": "ecea562a",
   "metadata": {},
   "outputs": [],
   "source": [
    "tl.begin_fill()\n",
    "tl.forward(200)\n",
    "tl.right(90)\n",
    "tl.backward(100)\n",
    "tl.right(90)\n",
    "tl.forward(200)\n",
    "tl.left(90)\n",
    "tl.forward(100)\n",
    "tl.end_fill()\n",
    "\n",
    "tl.penup()\n",
    "tl.forward(100)\n",
    "tl.pendown()\n",
    "\n",
    "tl.fillcolor(\"blue\")\n",
    "tl.begin_fill()\n",
    "tl.circle(70)\n",
    "tl.end_fill()"
   ]
  },
  {
   "cell_type": "code",
   "execution_count": null,
   "id": "f446bcf8",
   "metadata": {},
   "outputs": [],
   "source": [
    "turtle.done()"
   ]
  },
  {
   "cell_type": "code",
   "execution_count": null,
   "id": "85d2d0f8",
   "metadata": {},
   "outputs": [],
   "source": []
  }
 ],
 "metadata": {
  "kernelspec": {
   "display_name": "Python 3 (ipykernel)",
   "language": "python",
   "name": "python3"
  },
  "language_info": {
   "codemirror_mode": {
    "name": "ipython",
    "version": 3
   },
   "file_extension": ".py",
   "mimetype": "text/x-python",
   "name": "python",
   "nbconvert_exporter": "python",
   "pygments_lexer": "ipython3",
   "version": "3.9.7"
  }
 },
 "nbformat": 4,
 "nbformat_minor": 5
}
