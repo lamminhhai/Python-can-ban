{
 "cells": [
  {
   "cell_type": "code",
   "execution_count": 1,
   "id": "f90abe91",
   "metadata": {},
   "outputs": [],
   "source": [
    "import turtle"
   ]
  },
  {
   "cell_type": "code",
   "execution_count": 2,
   "id": "739f967b",
   "metadata": {},
   "outputs": [],
   "source": [
    "tl = turtle.Turtle()\n",
    "tl.shape('turtle')\n",
    "tl.hideturtle()\n",
    "tl.speed(50)\n",
    "tl.pencolor('red')\n",
    "tl.pensize(3)"
   ]
  },
  {
   "cell_type": "code",
   "execution_count": 3,
   "id": "31459eae",
   "metadata": {},
   "outputs": [],
   "source": [
    "tl.fillcolor('red')\n",
    "tl.begin_fill()\n",
    "tl.forward(200)\n",
    "tl.right(144)\n",
    "tl.forward(200)\n",
    "tl.right(144)\n",
    "tl.forward(200)\n",
    "tl.right(144)\n",
    "tl.forward(200)\n",
    "tl.right(144)\n",
    "tl.forward(200)\n",
    "tl.right(144)\n",
    "tl.end_fill()"
   ]
  },
  {
   "cell_type": "code",
   "execution_count": null,
   "id": "74e9599a",
   "metadata": {},
   "outputs": [],
   "source": [
    "turtle.done()"
   ]
  }
 ],
 "metadata": {
  "kernelspec": {
   "display_name": "Python 3 (ipykernel)",
   "language": "python",
   "name": "python3"
  },
  "language_info": {
   "codemirror_mode": {
    "name": "ipython",
    "version": 3
   },
   "file_extension": ".py",
   "mimetype": "text/x-python",
   "name": "python",
   "nbconvert_exporter": "python",
   "pygments_lexer": "ipython3",
   "version": "3.9.7"
  }
 },
 "nbformat": 4,
 "nbformat_minor": 5
}
